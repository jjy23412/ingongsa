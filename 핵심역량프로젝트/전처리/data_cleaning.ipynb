{
 "cells": [
  {
   "cell_type": "code",
   "execution_count": 2,
   "metadata": {},
   "outputs": [
    {
     "data": {
      "text/html": [
       "<div>\n",
       "<style scoped>\n",
       "    .dataframe tbody tr th:only-of-type {\n",
       "        vertical-align: middle;\n",
       "    }\n",
       "\n",
       "    .dataframe tbody tr th {\n",
       "        vertical-align: top;\n",
       "    }\n",
       "\n",
       "    .dataframe thead th {\n",
       "        text-align: right;\n",
       "    }\n",
       "</style>\n",
       "<table border=\"1\" class=\"dataframe\">\n",
       "  <thead>\n",
       "    <tr style=\"text-align: right;\">\n",
       "      <th></th>\n",
       "      <th>Unnamed: 0</th>\n",
       "      <th>number</th>\n",
       "      <th>title</th>\n",
       "      <th>name</th>\n",
       "      <th>date</th>\n",
       "      <th>answer_state</th>\n",
       "      <th>contents</th>\n",
       "      <th>text_morphed_masked</th>\n",
       "      <th>text_masked</th>\n",
       "      <th>has_attachment</th>\n",
       "      <th>answer_contents</th>\n",
       "      <th>charge</th>\n",
       "      <th>answer_date</th>\n",
       "      <th>registration_number</th>\n",
       "      <th>charge_name</th>\n",
       "      <th>title_and_contents</th>\n",
       "      <th>aggr</th>\n",
       "      <th>욕설_모욕</th>\n",
       "      <th>비꼼_시비</th>\n",
       "      <th>성희롱</th>\n",
       "      <th>요지불명</th>\n",
       "      <th>저격성 민원</th>\n",
       "      <th>완전중복</th>\n",
       "      <th>반복</th>\n",
       "      <th>출처</th>\n",
       "    </tr>\n",
       "  </thead>\n",
       "  <tbody>\n",
       "    <tr>\n",
       "      <th>0</th>\n",
       "      <td>0</td>\n",
       "      <td>84751</td>\n",
       "      <td>몸 전체를 신끼로 감아버릴 경우</td>\n",
       "      <td>표광준</td>\n",
       "      <td>2021-04-04</td>\n",
       "      <td>답변완료</td>\n",
       "      <td>안녕하세요 과거에 있었던 일에 글을 올립니다. 과거 홍보목적으로 제가 무슨 여자친구...</td>\n",
       "      <td>안녕 하 과거 있 일 글 올리 과거 홍보 목적 무슨 여자 친구 찾 내용 주인공 몰래...</td>\n",
       "      <td>안녕 하시 어요 과거 에 있었 던 일 에 글 을 올리ㅂ니다 . 과거 홍보 목적 으...</td>\n",
       "      <td>False</td>\n",
       "      <td>1. 우리 구에 접수(접수번호 202104041101274645 2021.04.04...</td>\n",
       "      <td>자치행정국 민원봉사과</td>\n",
       "      <td>2021-04-06 18:08</td>\n",
       "      <td>2.020000e+17</td>\n",
       "      <td>손정민</td>\n",
       "      <td>몸 전체를 신끼로 감아버릴 경우 안녕하세요 과거에 있었던 일에 글을 올립니다. 과거...</td>\n",
       "      <td>1</td>\n",
       "      <td>0</td>\n",
       "      <td>0</td>\n",
       "      <td>0</td>\n",
       "      <td>1</td>\n",
       "      <td>0</td>\n",
       "      <td>False</td>\n",
       "      <td>0</td>\n",
       "      <td>광주광역시_동구</td>\n",
       "    </tr>\n",
       "  </tbody>\n",
       "</table>\n",
       "</div>"
      ],
      "text/plain": [
       "   Unnamed: 0  number              title name        date answer_state  \\\n",
       "0           0   84751  몸 전체를 신끼로 감아버릴 경우  표광준  2021-04-04         답변완료   \n",
       "\n",
       "                                            contents  \\\n",
       "0  안녕하세요 과거에 있었던 일에 글을 올립니다. 과거 홍보목적으로 제가 무슨 여자친구...   \n",
       "\n",
       "                                 text_morphed_masked  \\\n",
       "0  안녕 하 과거 있 일 글 올리 과거 홍보 목적 무슨 여자 친구 찾 내용 주인공 몰래...   \n",
       "\n",
       "                                         text_masked  has_attachment  \\\n",
       "0   안녕 하시 어요 과거 에 있었 던 일 에 글 을 올리ㅂ니다 . 과거 홍보 목적 으...           False   \n",
       "\n",
       "                                     answer_contents       charge  \\\n",
       "0  1. 우리 구에 접수(접수번호 202104041101274645 2021.04.04...  자치행정국 민원봉사과   \n",
       "\n",
       "        answer_date  registration_number charge_name  \\\n",
       "0  2021-04-06 18:08         2.020000e+17         손정민   \n",
       "\n",
       "                                  title_and_contents  aggr  욕설_모욕  비꼼_시비  성희롱  \\\n",
       "0  몸 전체를 신끼로 감아버릴 경우 안녕하세요 과거에 있었던 일에 글을 올립니다. 과거...     1      0      0    0   \n",
       "\n",
       "   요지불명  저격성 민원   완전중복  반복        출처  \n",
       "0     1       0  False   0  광주광역시_동구  "
      ]
     },
     "execution_count": 2,
     "metadata": {},
     "output_type": "execute_result"
    }
   ],
   "source": [
    "import pandas as pd\n",
    "import os\n",
    "\n",
    "path = \"/home/secludor/langchain-kr/RAG-Practices/GAS5 CP/\"\n",
    "file = \"공격성_1_0724_masked\"\n",
    "\n",
    "pd.set_option(\"display.max_column\", 30)\n",
    "data = pd.read_csv(os.path.join(path, file) + \".csv\")\n",
    "data.head(1)"
   ]
  },
  {
   "cell_type": "code",
   "execution_count": 3,
   "metadata": {},
   "outputs": [
    {
     "name": "stdout",
     "output_type": "stream",
     "text": [
      "<class 'pandas.core.frame.DataFrame'>\n",
      "RangeIndex: 197 entries, 0 to 196\n",
      "Data columns (total 25 columns):\n",
      " #   Column               Non-Null Count  Dtype  \n",
      "---  ------               --------------  -----  \n",
      " 0   Unnamed: 0           197 non-null    int64  \n",
      " 1   number               197 non-null    int64  \n",
      " 2   title                197 non-null    object \n",
      " 3   name                 197 non-null    object \n",
      " 4   date                 197 non-null    object \n",
      " 5   answer_state         197 non-null    object \n",
      " 6   contents             197 non-null    object \n",
      " 7   text_morphed_masked  197 non-null    object \n",
      " 8   text_masked          197 non-null    object \n",
      " 9   has_attachment       197 non-null    bool   \n",
      " 10  answer_contents      186 non-null    object \n",
      " 11  charge               197 non-null    object \n",
      " 12  answer_date          186 non-null    object \n",
      " 13  registration_number  186 non-null    float64\n",
      " 14  charge_name          186 non-null    object \n",
      " 15  title_and_contents   197 non-null    object \n",
      " 16  aggr                 197 non-null    int64  \n",
      " 17  욕설_모욕                197 non-null    int64  \n",
      " 18  비꼼_시비                197 non-null    int64  \n",
      " 19  성희롱                  197 non-null    int64  \n",
      " 20  요지불명                 197 non-null    int64  \n",
      " 21  저격성 민원               197 non-null    int64  \n",
      " 22  완전중복                 197 non-null    bool   \n",
      " 23  반복                   197 non-null    int64  \n",
      " 24  출처                   197 non-null    object \n",
      "dtypes: bool(2), float64(1), int64(9), object(13)\n",
      "memory usage: 35.9+ KB\n"
     ]
    }
   ],
   "source": [
    "data.info()"
   ]
  },
  {
   "cell_type": "code",
   "execution_count": 4,
   "metadata": {},
   "outputs": [
    {
     "data": {
      "text/plain": [
       "(0, 25)"
      ]
     },
     "execution_count": 4,
     "metadata": {},
     "output_type": "execute_result"
    }
   ],
   "source": [
    "data[data['contents'].isnull()].shape"
   ]
  },
  {
   "cell_type": "code",
   "execution_count": 5,
   "metadata": {},
   "outputs": [
    {
     "name": "stdout",
     "output_type": "stream",
     "text": [
      "<class 'pandas.core.frame.DataFrame'>\n",
      "RangeIndex: 197 entries, 0 to 196\n",
      "Data columns (total 25 columns):\n",
      " #   Column               Non-Null Count  Dtype  \n",
      "---  ------               --------------  -----  \n",
      " 0   Unnamed: 0           197 non-null    int64  \n",
      " 1   number               197 non-null    int64  \n",
      " 2   title                197 non-null    object \n",
      " 3   name                 197 non-null    object \n",
      " 4   date                 197 non-null    object \n",
      " 5   answer_state         197 non-null    object \n",
      " 6   contents             197 non-null    object \n",
      " 7   text_morphed_masked  197 non-null    object \n",
      " 8   text_masked          197 non-null    object \n",
      " 9   has_attachment       197 non-null    bool   \n",
      " 10  answer_contents      186 non-null    object \n",
      " 11  charge               197 non-null    object \n",
      " 12  answer_date          186 non-null    object \n",
      " 13  registration_number  186 non-null    float64\n",
      " 14  charge_name          186 non-null    object \n",
      " 15  title_and_contents   197 non-null    object \n",
      " 16  aggr                 197 non-null    int64  \n",
      " 17  욕설_모욕                197 non-null    int64  \n",
      " 18  비꼼_시비                197 non-null    int64  \n",
      " 19  성희롱                  197 non-null    int64  \n",
      " 20  요지불명                 197 non-null    int64  \n",
      " 21  저격성 민원               197 non-null    int64  \n",
      " 22  완전중복                 197 non-null    bool   \n",
      " 23  반복                   197 non-null    int64  \n",
      " 24  출처                   197 non-null    object \n",
      "dtypes: bool(2), float64(1), int64(9), object(13)\n",
      "memory usage: 35.9+ KB\n"
     ]
    }
   ],
   "source": [
    "data.dropna(subset=['contents'], inplace=True)\n",
    "data.info()"
   ]
  },
  {
   "cell_type": "code",
   "execution_count": 6,
   "metadata": {},
   "outputs": [
    {
     "name": "stdout",
     "output_type": "stream",
     "text": [
      "<class 'pandas.core.frame.DataFrame'>\n",
      "Index: 0 entries\n",
      "Data columns (total 25 columns):\n",
      " #   Column               Non-Null Count  Dtype  \n",
      "---  ------               --------------  -----  \n",
      " 0   Unnamed: 0           0 non-null      int64  \n",
      " 1   number               0 non-null      int64  \n",
      " 2   title                0 non-null      object \n",
      " 3   name                 0 non-null      object \n",
      " 4   date                 0 non-null      object \n",
      " 5   answer_state         0 non-null      object \n",
      " 6   contents             0 non-null      object \n",
      " 7   text_morphed_masked  0 non-null      object \n",
      " 8   text_masked          0 non-null      object \n",
      " 9   has_attachment       0 non-null      bool   \n",
      " 10  answer_contents      0 non-null      object \n",
      " 11  charge               0 non-null      object \n",
      " 12  answer_date          0 non-null      object \n",
      " 13  registration_number  0 non-null      float64\n",
      " 14  charge_name          0 non-null      object \n",
      " 15  title_and_contents   0 non-null      object \n",
      " 16  aggr                 0 non-null      int64  \n",
      " 17  욕설_모욕                0 non-null      int64  \n",
      " 18  비꼼_시비                0 non-null      int64  \n",
      " 19  성희롱                  0 non-null      int64  \n",
      " 20  요지불명                 0 non-null      int64  \n",
      " 21  저격성 민원               0 non-null      int64  \n",
      " 22  완전중복                 0 non-null      bool   \n",
      " 23  반복                   0 non-null      int64  \n",
      " 24  출처                   0 non-null      object \n",
      "dtypes: bool(2), float64(1), int64(9), object(13)\n",
      "memory usage: 0.0+ bytes\n"
     ]
    }
   ],
   "source": [
    "data[data['title']== '[관리자에 의해 삭제되었습니다.]'].info()"
   ]
  },
  {
   "cell_type": "code",
   "execution_count": 7,
   "metadata": {},
   "outputs": [
    {
     "data": {
      "text/html": [
       "<div>\n",
       "<style scoped>\n",
       "    .dataframe tbody tr th:only-of-type {\n",
       "        vertical-align: middle;\n",
       "    }\n",
       "\n",
       "    .dataframe tbody tr th {\n",
       "        vertical-align: top;\n",
       "    }\n",
       "\n",
       "    .dataframe thead th {\n",
       "        text-align: right;\n",
       "    }\n",
       "</style>\n",
       "<table border=\"1\" class=\"dataframe\">\n",
       "  <thead>\n",
       "    <tr style=\"text-align: right;\">\n",
       "      <th></th>\n",
       "      <th>Unnamed: 0</th>\n",
       "      <th>number</th>\n",
       "      <th>title</th>\n",
       "      <th>name</th>\n",
       "      <th>date</th>\n",
       "      <th>answer_state</th>\n",
       "      <th>contents</th>\n",
       "      <th>text_morphed_masked</th>\n",
       "      <th>text_masked</th>\n",
       "      <th>has_attachment</th>\n",
       "      <th>answer_contents</th>\n",
       "      <th>charge</th>\n",
       "      <th>answer_date</th>\n",
       "      <th>registration_number</th>\n",
       "      <th>charge_name</th>\n",
       "      <th>title_and_contents</th>\n",
       "      <th>aggr</th>\n",
       "      <th>욕설_모욕</th>\n",
       "      <th>비꼼_시비</th>\n",
       "      <th>성희롱</th>\n",
       "      <th>요지불명</th>\n",
       "      <th>저격성 민원</th>\n",
       "      <th>완전중복</th>\n",
       "      <th>반복</th>\n",
       "      <th>출처</th>\n",
       "    </tr>\n",
       "  </thead>\n",
       "  <tbody>\n",
       "  </tbody>\n",
       "</table>\n",
       "</div>"
      ],
      "text/plain": [
       "Empty DataFrame\n",
       "Columns: [Unnamed: 0, number, title, name, date, answer_state, contents, text_morphed_masked, text_masked, has_attachment, answer_contents, charge, answer_date, registration_number, charge_name, title_and_contents, aggr, 욕설_모욕, 비꼼_시비, 성희롱, 요지불명, 저격성 민원, 완전중복, 반복, 출처]\n",
       "Index: []"
      ]
     },
     "execution_count": 7,
     "metadata": {},
     "output_type": "execute_result"
    }
   ],
   "source": [
    "data[(data['title']== '[관리자에 의해 삭제되었습니다.]') & (data['name']=='신윤자')]"
   ]
  },
  {
   "cell_type": "code",
   "execution_count": 9,
   "metadata": {},
   "outputs": [
    {
     "data": {
      "text/plain": [
       "0       안녕 하시 어요 과거 에 있었 던 일 에 글 을 올리ㅂ니다 . 과거 홍보 목적 으...\n",
       "1       항상출퇴근하면서 보는 불법 쓰레기 현수막 이 있습니다 . `지역` `지역` 곧곧에...\n",
       "2       도로 가 파손되어서 차 가 지나가면 물 이 튀어나오았 옷 이 젖고 신발 이 젖어 ...\n",
       "3       안녕 하시 어요 천예령 특수 고용직 신청 을 하았었 고 그 에 관련하 여 백* *...\n",
       "4       병원 에 가려고 전대 병원 앞 `지역` 안과 로 진료 를 받으러 2020- 05-...\n",
       "                             ...                        \n",
       "192     `지역` 빌라 1차 쓰레기 처리 에 대하어 건의하았 던 사람 이ㅂ니다 . 저 가 ...\n",
       "193     추석연 휴 친정 에서 이틀 있었 습니다 ....`지역` 빌라 1차이 이ㅂ니다 . ...\n",
       "194     지나ㄴ 8월 달 에 몇차례 문의 드리었 는데 ...아직까지 방지 턱 설치 가 안되...\n",
       "195     군수 님..건축 과장 님..안녕 하시 ㅂ니까 ? 지나ㄴ 10월 11일 일요일 오전...\n",
       "196     군도 18호선 미개 설공 사 촉구 의 건 에 대하여 부여군 건설과 도로계 의 대답...\n",
       "Name: text_masked, Length: 197, dtype: object"
      ]
     },
     "execution_count": 9,
     "metadata": {},
     "output_type": "execute_result"
    }
   ],
   "source": [
    "data['text_masked']"
   ]
  },
  {
   "cell_type": "code",
   "execution_count": null,
   "metadata": {},
   "outputs": [],
   "source": []
  }
 ],
 "metadata": {
  "kernelspec": {
   "display_name": "tdrag",
   "language": "python",
   "name": "python3"
  },
  "language_info": {
   "codemirror_mode": {
    "name": "ipython",
    "version": 3
   },
   "file_extension": ".py",
   "mimetype": "text/x-python",
   "name": "python",
   "nbconvert_exporter": "python",
   "pygments_lexer": "ipython3",
   "version": "3.11.9"
  }
 },
 "nbformat": 4,
 "nbformat_minor": 2
}
