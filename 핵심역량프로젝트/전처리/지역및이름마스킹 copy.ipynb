{
 "cells": [
  {
   "cell_type": "markdown",
   "metadata": {},
   "source": [
    "# 파일 로드"
   ]
  },
  {
   "cell_type": "code",
   "execution_count": 55,
   "metadata": {},
   "outputs": [],
   "source": [
    "import rhinoMorph\n",
    "import pandas as pd\n",
    "import os\n",
    "\n",
    "# 데이터 로드 및 형태소 분석기 시작\n",
    "path = \"C:/Users/USER/Desktop/핵심역량 프로젝트/데이터/\"\n",
    "file1 = '라벨링 데이터/7월27일자까지_라벨링데이터원본.csv'\n",
    "\n",
    "data = pd.read_csv(os.path.join(path, file1) + \".csv\")\n",
    "\n",
    "data_contents = data.loc.contents\n",
    "data_title = data.loc.title\n",
    "\n",
    "location_data = pd.read_csv(os.path.join(path, file2) + \".csv\")\n",
    "location_list = list(location_data.loc.combined)"
   ]
  },
  {
   "cell_type": "markdown",
   "metadata": {},
   "source": [
    "# 전체 형태소"
   ]
  },
  {
   "cell_type": "code",
   "execution_count": 56,
   "metadata": {},
   "outputs": [
    {
     "name": "stdout",
     "output_type": "stream",
     "text": [
      "filepath:  C:\\Users\\USER\\anaconda3\\Lib\\site-packages\n",
      "classpath:  C:\\Users\\USER\\anaconda3\\Lib\\site-packages\\rhinoMorph/lib/rhino.jar\n",
      "JVM is already started~\n",
      "RHINO started!\n"
     ]
    }
   ],
   "source": [
    "rn = rhinoMorph.startRhino()\n",
    "\n",
    "#title 형태소 분석\n",
    "morphed_title_list = []\n",
    "for data_each in data_title:\n",
    "    morphed_data_each, poses = rhinoMorph.wholeResult_list(rn, str(data_each))\n",
    "    # print(morphed_data_each)\n",
    "    # print(poses)\n",
    "    # 형태소 분석된 데이터에서 NNP에 대해 이름 정규 표현식 적용 및 지역명 체크\n",
    "    # for j, item in enumerate(poses):\n",
    "    #     if item == 'NNP':\n",
    "    #         word = morphed_data_each[j]\n",
    "            \n",
    "    #         # 지역명 리스트에 있는지 체크\n",
    "    #         if word in location_list:\n",
    "    #             morphed_data_each[j] = '`지역`'\n",
    "        \n",
    "    joined_data_each = ' '.join(morphed_data_each)\n",
    "    if joined_data_each:\n",
    "        morphed_title_list.append(joined_data_each)\n",
    "    else : \n",
    "        morphed_title_list.append(' ')\n",
    "\n",
    "morphed_data_list = []\n",
    "for data_each in data_contents:\n",
    "    morphed_data_each, poses = rhinoMorph.wholeResult_list(rn, str(data_each))\n",
    "    # print(morphed_data_each)\n",
    "    # print(poses)\n",
    "    # 형태소 분석된 데이터에서 NNP에 대해 이름 정규 표현식 적용 및 지역명 체크\n",
    "    # for j, item in enumerate(poses):\n",
    "    #     if item == 'NNP':\n",
    "    #         word = morphed_data_each[j]\n",
    "            \n",
    "    #         # 지역명 리스트에 있는지 체크\n",
    "    #         if word in location_list:\n",
    "    #             morphed_data_each[j] = '`지역`'\n",
    "        \n",
    "    joined_data_each = ' '.join(morphed_data_each)\n",
    "    if joined_data_each:\n",
    "        morphed_data_list.append(joined_data_each)\n",
    "    else : \n",
    "        morphed_data_list.append(' ')\n",
    "\n",
    "\n",
    "data.insert(2,'title_morphed',morphed_title_list)\n",
    "data.insert(7,'text_morphed',morphed_data_list)\n"
   ]
  },
  {
   "cell_type": "markdown",
   "metadata": {},
   "source": [
    "# 필수 형태소 분리 마스킹 X"
   ]
  },
  {
   "cell_type": "code",
   "execution_count": 57,
   "metadata": {},
   "outputs": [],
   "source": [
    "\n",
    "#title 형태소 분석\n",
    "morphed_title_list = []\n",
    "for data_each in data_title:\n",
    "    morphed_data_each, poses = rhinoMorph.wholeResult_list(rn, str(data_each),pos=['NNG', 'NNP', 'VV', 'VA', 'XR', 'IC', 'MM', 'MAG', 'MAJ'])\n",
    "\n",
    "    joined_data_each = ' '.join(morphed_data_each)\n",
    "    if joined_data_each:\n",
    "        morphed_title_list.append(joined_data_each)\n",
    "    else : \n",
    "        morphed_title_list.append(' ')\n",
    "\n",
    "morphed_data_list = []\n",
    "for data_each in data_contents:\n",
    "    morphed_data_each, poses = rhinoMorph.wholeResult_list(rn, str(data_each),pos=['NNG', 'NNP', 'VV', 'VA', 'XR', 'IC', 'MM', 'MAG', 'MAJ'])\n",
    "        \n",
    "    joined_data_each = ' '.join(morphed_data_each)\n",
    "    if joined_data_each:\n",
    "        morphed_data_list.append(joined_data_each)\n",
    "    else : \n",
    "        morphed_data_list.append(' ')\n",
    "\n",
    "\n",
    "data.insert(3,'title_essential_morphed',morphed_title_list)\n",
    "data.insert(9,'text_essential_morphed',morphed_data_list)\n"
   ]
  },
  {
   "cell_type": "markdown",
   "metadata": {},
   "source": [
    "# 실질 형태소(명사 제거) 마스킹X"
   ]
  },
  {
   "cell_type": "code",
   "execution_count": 58,
   "metadata": {},
   "outputs": [
    {
     "name": "stdout",
     "output_type": "stream",
     "text": [
      "filepath:  C:\\Users\\USER\\anaconda3\\Lib\\site-packages\n",
      "classpath:  C:\\Users\\USER\\anaconda3\\Lib\\site-packages\\rhinoMorph/lib/rhino.jar\n",
      "JVM is already started~\n",
      "RHINO started!\n"
     ]
    }
   ],
   "source": [
    "import rhinoMorph\n",
    "import pandas as pd\n",
    "\n",
    "# 데이터 로드 및 형태소 분석기 시작\n",
    "\n",
    "rn = rhinoMorph.startRhino()\n",
    "\n",
    "morphed_title_list = []\n",
    "for data_each in data_title:\n",
    "    morphed_data_each, poses = rhinoMorph.wholeResult_list(rn, str(data_each),pos=['VV', 'VA', 'XR', 'IC', 'MM', 'MAG', 'MAJ'])\n",
    "        \n",
    "    joined_data_each = ' '.join(morphed_data_each)\n",
    "    if joined_data_each:\n",
    "        morphed_title_list.append(joined_data_each)\n",
    "    else : \n",
    "        morphed_title_list.append(' ')\n",
    "\n",
    "morphed_data_list = []\n",
    "for data_each in data_contents:\n",
    "    morphed_data_each, poses = rhinoMorph.wholeResult_list(rn, str(data_each),pos=['VV', 'VA', 'XR', 'IC', 'MM', 'MAG', 'MAJ'])\n",
    "        \n",
    "    joined_data_each = ' '.join(morphed_data_each)\n",
    "    if joined_data_each:\n",
    "        morphed_data_list.append(joined_data_each)\n",
    "    else : \n",
    "        morphed_data_list.append(' ')\n",
    "\n",
    "data.insert(4,'title_removeNN_essential_morphed',morphed_title_list)\n",
    "data.insert(11,'text_removeNN_essential_morphed',morphed_data_list)"
   ]
  },
  {
   "cell_type": "markdown",
   "metadata": {},
   "source": [
    "# 실질 형태소 + 종결 어미,마침표,물음표,느낌표  마스킹X"
   ]
  },
  {
   "cell_type": "code",
   "execution_count": 59,
   "metadata": {},
   "outputs": [
    {
     "name": "stdout",
     "output_type": "stream",
     "text": [
      "filepath:  C:\\Users\\USER\\anaconda3\\Lib\\site-packages\n",
      "classpath:  C:\\Users\\USER\\anaconda3\\Lib\\site-packages\\rhinoMorph/lib/rhino.jar\n",
      "JVM is already started~\n",
      "RHINO started!\n"
     ]
    }
   ],
   "source": [
    "rn = rhinoMorph.startRhino()\n",
    "\n",
    "morphed_title_list = []\n",
    "for data_each in data_title:\n",
    "    morphed_data_each, poses = rhinoMorph.wholeResult_list(rn, str(data_each),pos=['NNG', 'NNP', 'VV', 'VA', 'XR', 'IC', 'MM', 'MAG', 'MAJ','EF','SF'])\n",
    "\n",
    "    joined_data_each = ' '.join(morphed_data_each)\n",
    "    if joined_data_each:\n",
    "        morphed_title_list.append(joined_data_each)\n",
    "    else : \n",
    "        morphed_title_list.append(' ')\n",
    "\n",
    "morphed_data_list = []\n",
    "for data_each in data_contents:\n",
    "    morphed_data_each, poses = rhinoMorph.wholeResult_list(rn, str(data_each),pos=['NNG', 'NNP', 'VV', 'VA', 'XR', 'IC', 'MM', 'MAG', 'MAJ','EF','SF'])\n",
    "\n",
    "    joined_data_each = ' '.join(morphed_data_each)\n",
    "    if joined_data_each:\n",
    "        morphed_data_list.append(joined_data_each)\n",
    "    else : \n",
    "        morphed_data_list.append(' ')\n",
    "\n",
    "data.insert(5,'title_eomi_giho_essential_morphed',morphed_title_list)\n",
    "data.insert(13,'text_eomi_giho_essential_morphed',morphed_data_list)"
   ]
  },
  {
   "cell_type": "markdown",
   "metadata": {},
   "source": [
    "# 실질 형태소 + 명사제거 + 종결 어미,마침표,물음표,느낌표  마스킹X"
   ]
  },
  {
   "cell_type": "code",
   "execution_count": 62,
   "metadata": {},
   "outputs": [
    {
     "name": "stdout",
     "output_type": "stream",
     "text": [
      "filepath:  C:\\Users\\USER\\anaconda3\\Lib\\site-packages\n",
      "classpath:  C:\\Users\\USER\\anaconda3\\Lib\\site-packages\\rhinoMorph/lib/rhino.jar\n",
      "JVM is already started~\n",
      "RHINO started!\n"
     ]
    }
   ],
   "source": [
    "rn = rhinoMorph.startRhino()\n",
    "\n",
    "morphed_title_list = []\n",
    "for data_each in data_title:\n",
    "    morphed_data_each, poses = rhinoMorph.wholeResult_list(rn, str(data_each),pos=[ 'VV', 'VA', 'XR', 'IC', 'MM', 'MAG', 'MAJ','EF','SF'])\n",
    "\n",
    "    joined_data_each = ' '.join(morphed_data_each)\n",
    "    if joined_data_each:\n",
    "        morphed_title_list.append(joined_data_each)\n",
    "    else : \n",
    "        morphed_title_list.append(' ')\n",
    "\n",
    "morphed_data_list = []\n",
    "for data_each in data_contents:\n",
    "    morphed_data_each, poses = rhinoMorph.wholeResult_list(rn, str(data_each),pos=['VV', 'VA', 'XR', 'IC', 'MM', 'MAG', 'MAJ','EF','SF'])\n",
    "\n",
    "    joined_data_each = ' '.join(morphed_data_each)\n",
    "    if joined_data_each:\n",
    "        morphed_data_list.append(joined_data_each)\n",
    "    else : \n",
    "        morphed_data_list.append(' ')\n",
    "\n",
    "data.insert(6,'title_eomi_giho_essential_removeNN_morphed',morphed_title_list)\n",
    "data.insert(15,'text_eomi_giho_essential_removeNN_morphed',morphed_data_list)"
   ]
  },
  {
   "cell_type": "markdown",
   "metadata": {},
   "source": [
    "# Only 형태소 분리 마스킹O"
   ]
  },
  {
   "cell_type": "code",
   "execution_count": 63,
   "metadata": {},
   "outputs": [
    {
     "name": "stdout",
     "output_type": "stream",
     "text": [
      "filepath:  C:\\Users\\USER\\anaconda3\\Lib\\site-packages\n",
      "classpath:  C:\\Users\\USER\\anaconda3\\Lib\\site-packages\\rhinoMorph/lib/rhino.jar\n",
      "JVM is already started~\n",
      "RHINO started!\n"
     ]
    }
   ],
   "source": [
    "import rhinoMorph\n",
    "import pandas as pd\n",
    "\n",
    "rn = rhinoMorph.startRhino()\n",
    "\n",
    "#title 형태소 분석\n",
    "email_pattern = r'[a-zA-Z0-9._%+-]+@[a-zA-Z0-9.-]+\\.[a-zA-Z]{2,}'\n",
    "phone_pattern = r'\\b\\d{2,4}[-.\\s]?\\d{3,4}[-.\\s]?\\d{4}\\b'\n",
    "\n",
    "morphed_title_list = []\n",
    "for data_each in data_title:\n",
    "    # 이메일과 전화번호 마스킹\n",
    "    data_each = re.sub(email_pattern, '`이메일`', data_each)\n",
    "    data_each = re.sub(phone_pattern, '`전화번호`', data_each)\n",
    "\n",
    "    morphed_data_each, poses = rhinoMorph.wholeResult_list(rn, str(data_each))\n",
    "\n",
    "    # 형태소 분석된 데이터에서 NNP에 대해 이름 정규 표현식 적용 및 지역명 체크\n",
    "    for j, item in enumerate(poses):\n",
    "        if item == 'NNP':\n",
    "            word = morphed_data_each[j]\n",
    "            \n",
    "            # 지역명 리스트에 있는지 체크\n",
    "            if word in location_list:\n",
    "                morphed_data_each[j] = '`지역`'\n",
    "        \n",
    "        for k in ['NNG','NNB','NNP','NP','JKS','VCN','JKG','JKB','MAJ','ETM','JKQ','JC','JKC','JKO','JKV','EP','JX','SW','SF','SP','SO','EF','EC','IC']:\n",
    "            if item == k :\n",
    "                morphed_data_each[j] = morphed_data_each[j]+' '\n",
    "\n",
    "    joined_data_each2 = ' '.join(morphed_data_each)\n",
    "    if joined_data_each2:\n",
    "        morphed_title_list.append(' '+joined_data_each2)\n",
    "    else : \n",
    "        morphed_title_list.append(' ')\n",
    "\n",
    "morphed_data_list = []\n",
    "for data_each in data_contents:\n",
    "    # 이메일과 전화번호 마스킹\n",
    "    data_each = re.sub(email_pattern, '`이메일`', data_each)\n",
    "    data_each = re.sub(phone_pattern, '`전화번호`', data_each)\n",
    "\n",
    "    morphed_data_each, poses = rhinoMorph.wholeResult_list(rn, str(data_each))\n",
    "\n",
    "    # 형태소 분석된 데이터에서 NNP에 대해 이름 정규 표현식 적용 및 지역명 체크\n",
    "    for j, item in enumerate(poses):\n",
    "        if item == 'NNP':\n",
    "            word = morphed_data_each[j]\n",
    "            \n",
    "            # 지역명 리스트에 있는지 체크\n",
    "            if word in location_list:\n",
    "                morphed_data_each[j] = '`지역`'\n",
    "        \n",
    "        for k in ['NNG','NNB','NNP','NP','JKS','VCN','JKG','JKB','MAJ','ETM','JKQ','JC','JKC','JKO','JKV','EP','JX','SW','SF','SP','SO','EF','EC','IC']:\n",
    "            if item == k :\n",
    "                morphed_data_each[j] = morphed_data_each[j]+' '\n",
    "\n",
    "    joined_data_each2 =  ' '.join(morphed_data_each)\n",
    "    if joined_data_each2:\n",
    "        morphed_data_list.append(' '+joined_data_each2)\n",
    "    else : \n",
    "        morphed_data_list.append(' ')\n",
    "\n",
    "\n",
    "data.insert(7,'title_morphed_masked',morphed_title_list)\n",
    "data.insert(17,'text_morphed_masked',morphed_data_list)\n"
   ]
  },
  {
   "cell_type": "markdown",
   "metadata": {},
   "source": [
    "# 필수 형태소 분리 마스킹 O"
   ]
  },
  {
   "cell_type": "code",
   "execution_count": 64,
   "metadata": {},
   "outputs": [
    {
     "name": "stdout",
     "output_type": "stream",
     "text": [
      "filepath:  C:\\Users\\USER\\anaconda3\\Lib\\site-packages\n",
      "classpath:  C:\\Users\\USER\\anaconda3\\Lib\\site-packages\\rhinoMorph/lib/rhino.jar\n",
      "JVM is already started~\n",
      "RHINO started!\n"
     ]
    }
   ],
   "source": [
    "import rhinoMorph\n",
    "import pandas as pd\n",
    "\n",
    "# 데이터 로드 및 형태소 분석기 시작\n",
    "\n",
    "data_contents = data.loc[:, \"contents\"]\n",
    "\n",
    "rn = rhinoMorph.startRhino()\n",
    "\n",
    "morphed_title_list = []\n",
    "for data_each in data_title:\n",
    "    # 이메일과 전화번호 마스킹\n",
    "    data_each = re.sub(email_pattern, '`이메일`', data_each)\n",
    "    data_each = re.sub(phone_pattern, '`전화번호`', data_each)\n",
    "\n",
    "    morphed_data_each, poses = rhinoMorph.wholeResult_list(rn, str(data_each),pos=['NNG', 'NNP', 'VV', 'VA', 'XR', 'IC', 'MM', 'MAG', 'MAJ'])\n",
    "\n",
    "    # 형태소 분석된 데이터에서 NNP에 대해 이름 정규 표현식 적용 및 지역명 체크\n",
    "    for j, item in enumerate(poses):\n",
    "        if item == 'NNP':\n",
    "            word = morphed_data_each[j]\n",
    "            \n",
    "            # 지역명 리스트에 있는지 체크\n",
    "            if word in location_list:\n",
    "                morphed_data_each[j] = '`지역`'\n",
    "        \n",
    "        for k in ['NNG','NNB','NNP','NP','JKS','VCN','JKG','JKB','MAJ','ETM','JKQ','JC','JKC','JKO','JKV','EP','JX','SW','SF','SP','SO','EF','EC','IC']:\n",
    "            if item == k :\n",
    "                morphed_data_each[j] = morphed_data_each[j]+' '\n",
    "\n",
    "    joined_data_each2 = ' '.join(morphed_data_each)\n",
    "    if joined_data_each2:\n",
    "        morphed_title_list.append(' '+joined_data_each2)\n",
    "    else : \n",
    "        morphed_title_list.append(' ')\n",
    "\n",
    "morphed_data_list = []\n",
    "for data_each in data_contents:\n",
    "    # 이메일과 전화번호 마스킹\n",
    "    data_each = re.sub(email_pattern, '`이메일`', data_each)\n",
    "    data_each = re.sub(phone_pattern, '`전화번호`', data_each)\n",
    "\n",
    "    morphed_data_each, poses = rhinoMorph.wholeResult_list(rn, str(data_each),pos=['NNG', 'NNP', 'VV', 'VA', 'XR', 'IC', 'MM', 'MAG', 'MAJ'])\n",
    "\n",
    "    # 형태소 분석된 데이터에서 NNP에 대해 이름 정규 표현식 적용 및 지역명 체크\n",
    "    for j, item in enumerate(poses):\n",
    "        if item == 'NNP':\n",
    "            word = morphed_data_each[j]\n",
    "            \n",
    "            # 지역명 리스트에 있는지 체크\n",
    "            if word in location_list:\n",
    "                morphed_data_each[j] = '`지역`'\n",
    "        \n",
    "        for k in ['NNG','NNB','NNP','NP','JKS','VCN','JKG','JKB','MAJ','ETM','JKQ','JC','JKC','JKO','JKV','EP','JX','SW','SF','SP','SO','EF','EC','IC']:\n",
    "            if item == k :\n",
    "                morphed_data_each[j] = morphed_data_each[j]+' '\n",
    "\n",
    "    joined_data_each2 = ' '.join(morphed_data_each)\n",
    "    if joined_data_each2:\n",
    "        morphed_data_list.append(' '+joined_data_each2)\n",
    "    else : \n",
    "        morphed_data_list.append(' ')\n",
    "\n",
    "data.insert(8,'title_essential_morphed_masked',morphed_title_list)\n",
    "data.insert(19,'text_essential_morphed_masked',morphed_data_list)"
   ]
  },
  {
   "cell_type": "markdown",
   "metadata": {},
   "source": [
    "# 필수 형태소(명사 제거) 마스킹O"
   ]
  },
  {
   "cell_type": "code",
   "execution_count": 65,
   "metadata": {},
   "outputs": [
    {
     "name": "stdout",
     "output_type": "stream",
     "text": [
      "filepath:  C:\\Users\\USER\\anaconda3\\Lib\\site-packages\n",
      "classpath:  C:\\Users\\USER\\anaconda3\\Lib\\site-packages\\rhinoMorph/lib/rhino.jar\n",
      "JVM is already started~\n",
      "RHINO started!\n"
     ]
    }
   ],
   "source": [
    "import rhinoMorph\n",
    "import pandas as pd\n",
    "\n",
    "# 데이터 로드 및 형태소 분석기 시작\n",
    "\n",
    "data_contents = data.loc[:, \"contents\"]\n",
    "\n",
    "rn = rhinoMorph.startRhino()\n",
    "\n",
    "morphed_title_list = []\n",
    "for data_each in data_title:\n",
    "    # 이메일과 전화번호 마스킹\n",
    "    data_each = re.sub(email_pattern, '`이메일`', data_each)\n",
    "    data_each = re.sub(phone_pattern, '`전화번호`', data_each)\n",
    "\n",
    "    morphed_data_each, poses = rhinoMorph.wholeResult_list(rn, str(data_each),pos=['VV', 'VA', 'XR', 'IC', 'MM', 'MAG', 'MAJ'])\n",
    "\n",
    "    # 형태소 분석된 데이터에서 NNP에 대해 이름 정규 표현식 적용 및 지역명 체크\n",
    "    for j, item in enumerate(poses):\n",
    "        if item == 'NNP':\n",
    "            word = morphed_data_each[j]\n",
    "            \n",
    "            # 지역명 리스트에 있는지 체크\n",
    "            if word in location_list:\n",
    "                morphed_data_each[j] = '`지역`'\n",
    "        \n",
    "        for k in ['NNG','NNB','NNP','NP','JKS','VCN','JKG','JKB','MAJ','ETM','JKQ','JC','JKC','JKO','JKV','EP','JX','SW','SF','SP','SO','EF','EC','IC']:\n",
    "            if item == k :\n",
    "                morphed_data_each[j] = morphed_data_each[j]+' '\n",
    "\n",
    "    joined_data_each2 = ' '.join(morphed_data_each)\n",
    "    if joined_data_each2:\n",
    "        morphed_title_list.append(' '+joined_data_each2)\n",
    "    else : \n",
    "        morphed_title_list.append(' ')\n",
    "\n",
    "morphed_data_list = []\n",
    "for data_each in data_contents:\n",
    "    # 이메일과 전화번호 마스킹\n",
    "    data_each = re.sub(email_pattern, '`이메일`', data_each)\n",
    "    data_each = re.sub(phone_pattern, '`전화번호`', data_each)\n",
    "\n",
    "    morphed_data_each, poses = rhinoMorph.wholeResult_list(rn, str(data_each),pos=['VV', 'VA', 'XR', 'IC', 'MM', 'MAG', 'MAJ'])\n",
    "\n",
    "    # 형태소 분석된 데이터에서 NNP에 대해 이름 정규 표현식 적용 및 지역명 체크\n",
    "    for j, item in enumerate(poses):\n",
    "        if item == 'NNP':\n",
    "            word = morphed_data_each[j]\n",
    "            \n",
    "            # 지역명 리스트에 있는지 체크\n",
    "            if word in location_list:\n",
    "                morphed_data_each[j] = '`지역`'\n",
    "        \n",
    "        for k in ['NNG','NNB','NNP','NP','JKS','VCN','JKG','JKB','MAJ','ETM','JKQ','JC','JKC','JKO','JKV','EP','JX','SW','SF','SP','SO','EF','EC','IC']:\n",
    "            if item == k :\n",
    "                morphed_data_each[j] = morphed_data_each[j]+' '\n",
    "\n",
    "    joined_data_each2 = ' '.join(morphed_data_each)\n",
    "    if joined_data_each2:\n",
    "        morphed_data_list.append(' '+joined_data_each2)\n",
    "    else : \n",
    "        morphed_data_list.append(' ')\n",
    "\n",
    "data.insert(9,'title_removeNN_essential_morphed_masked',morphed_title_list)\n",
    "data.insert(21,'text_removeNN_essential_morphed_masked',morphed_data_list)"
   ]
  },
  {
   "cell_type": "code",
   "execution_count": 51,
   "metadata": {},
   "outputs": [
    {
     "data": {
      "text/plain": [
       "Index(['number', 'title', 'title_morphed', 'title_essential_morphed',\n",
       "       'title_removeNN_essential_morphed', 'title_eomi_giho_essential_morphed',\n",
       "       'title_eomi_giho_essential_removeNN_morphed', 'title_morphed_masked',\n",
       "       'title_essential_morphed_masked',\n",
       "       'title_removeNN_essential_morphed_masked', 'name', 'date',\n",
       "       'answer_state', 'contents', 'text_morphed', 'text_essential_morphed',\n",
       "       'text_removeNN_essential_morphed', 'text_eomi_giho_essential_morphed',\n",
       "       'text_eomi_giho_essential_removeNN_morphed', 'text_morphed_masked',\n",
       "       'text_essential_morphed_masked',\n",
       "       'text_removeNN_essential_morphed_masked', 'has_attachment',\n",
       "       'answer_contents', 'registration_number', 'charge_name', 'charge',\n",
       "       'answer_date', 'title_and_contents', 'aggr', '욕설_모욕', '비꼼_시비', '성희롱',\n",
       "       '요지불명', '저격성 민원', '완전중복', '반복', '출처'],\n",
       "      dtype='object')"
      ]
     },
     "execution_count": 51,
     "metadata": {},
     "output_type": "execute_result"
    }
   ],
   "source": [
    "data.columns"
   ]
  },
  {
   "cell_type": "markdown",
   "metadata": {},
   "source": [
    "# 필수 형태소 + 종결 어미,마침표,물음표,느낌표  마스킹O"
   ]
  },
  {
   "cell_type": "code",
   "execution_count": 66,
   "metadata": {},
   "outputs": [
    {
     "name": "stdout",
     "output_type": "stream",
     "text": [
      "filepath:  C:\\Users\\USER\\anaconda3\\Lib\\site-packages\n",
      "classpath:  C:\\Users\\USER\\anaconda3\\Lib\\site-packages\\rhinoMorph/lib/rhino.jar\n",
      "JVM is already started~\n",
      "RHINO started!\n"
     ]
    }
   ],
   "source": [
    "import rhinoMorph\n",
    "import pandas as pd\n",
    "\n",
    "# 데이터 로드 및 형태소 분석기 시작\n",
    "\n",
    "data_contents = data.loc[:, \"contents\"]\n",
    "\n",
    "rn = rhinoMorph.startRhino()\n",
    "\n",
    "morphed_title_list = []\n",
    "for data_each in data_title:\n",
    "    # 이메일과 전화번호 마스킹\n",
    "    data_each = re.sub(email_pattern, '`이메일`', data_each)\n",
    "    data_each = re.sub(phone_pattern, '`전화번호`', data_each)\n",
    "\n",
    "    morphed_data_each, poses = rhinoMorph.wholeResult_list(rn, str(data_each),pos=['NNG', 'NNP', 'VV', 'VA', 'XR', 'IC', 'MM', 'MAG', 'MAJ','EF','SF'])\n",
    "\n",
    "    # 형태소 분석된 데이터에서 NNP에 대해 이름 정규 표현식 적용 및 지역명 체크\n",
    "    for j, item in enumerate(poses):\n",
    "        if item == 'NNP':\n",
    "            word = morphed_data_each[j]\n",
    "            \n",
    "            # 지역명 리스트에 있는지 체크\n",
    "            if word in location_list:\n",
    "                morphed_data_each[j] = '`지역`'\n",
    "        \n",
    "        for k in ['NNG','NNB','NNP','NP','JKS','VCN','JKG','JKB','MAJ','ETM','JKQ','JC','JKC','JKO','JKV','EP','JX','SW','SF','SP','SO','EF','EC','IC']:\n",
    "            if item == k :\n",
    "                morphed_data_each[j] = morphed_data_each[j]+' '\n",
    "\n",
    "    joined_data_each2 = ' '.join(morphed_data_each)\n",
    "    if joined_data_each2:\n",
    "        morphed_title_list.append(' '+joined_data_each2)\n",
    "    else : \n",
    "        morphed_title_list.append(' ')\n",
    "\n",
    "morphed_data_list = []\n",
    "for data_each in data_contents:\n",
    "    # 이메일과 전화번호 마스킹\n",
    "    data_each = re.sub(email_pattern, '`이메일`', data_each)\n",
    "    data_each = re.sub(phone_pattern, '`전화번호`', data_each)\n",
    "\n",
    "    morphed_data_each, poses = rhinoMorph.wholeResult_list(rn, str(data_each),pos=['NNG', 'NNP', 'VV', 'VA', 'XR', 'IC', 'MM', 'MAG', 'MAJ','EF','SF'])\n",
    "\n",
    "    # 형태소 분석된 데이터에서 NNP에 대해 이름 정규 표현식 적용 및 지역명 체크\n",
    "    for j, item in enumerate(poses):\n",
    "        if item == 'NNP':\n",
    "            word = morphed_data_each[j]\n",
    "            \n",
    "            # 지역명 리스트에 있는지 체크\n",
    "            if word in location_list:\n",
    "                morphed_data_each[j] = '`지역`'\n",
    "        \n",
    "        for k in ['NNG','NNB','NNP','NP','JKS','VCN','JKG','JKB','MAJ','ETM','JKQ','JC','JKC','JKO','JKV','EP','JX','SW','SF','SP','SO','EF','EC','IC']:\n",
    "            if item == k :\n",
    "                morphed_data_each[j] = morphed_data_each[j]+' '\n",
    "\n",
    "    joined_data_each2 = ' '.join(morphed_data_each)\n",
    "    if joined_data_each2:\n",
    "        morphed_data_list.append(' '+joined_data_each2)\n",
    "    else : \n",
    "        morphed_data_list.append(' ')\n",
    "\n",
    "data.insert(10,'title_eomi_giho_essential_morphed_masked',morphed_title_list)\n",
    "data.insert(23,'text_eomi_giho_essential_morphed_masked',morphed_data_list)"
   ]
  },
  {
   "cell_type": "markdown",
   "metadata": {},
   "source": [
    "# 필수 형태소 + 명사제거 + 종결 어미,마침표,물음표,느낌표  마스킹X"
   ]
  },
  {
   "cell_type": "code",
   "execution_count": 67,
   "metadata": {},
   "outputs": [
    {
     "name": "stdout",
     "output_type": "stream",
     "text": [
      "filepath:  C:\\Users\\USER\\anaconda3\\Lib\\site-packages\n",
      "classpath:  C:\\Users\\USER\\anaconda3\\Lib\\site-packages\\rhinoMorph/lib/rhino.jar\n",
      "JVM is already started~\n",
      "RHINO started!\n"
     ]
    }
   ],
   "source": [
    "import rhinoMorph\n",
    "import pandas as pd\n",
    "\n",
    "# 데이터 로드 및 형태소 분석기 시작\n",
    "\n",
    "data_contents = data.loc[:, \"contents\"]\n",
    "\n",
    "rn = rhinoMorph.startRhino()\n",
    "\n",
    "morphed_title_list = []\n",
    "for data_each in data_title:\n",
    "    # 이메일과 전화번호 마스킹\n",
    "    data_each = re.sub(email_pattern, '`이메일`', data_each)\n",
    "    data_each = re.sub(phone_pattern, '`전화번호`', data_each)\n",
    "\n",
    "    morphed_data_each, poses = rhinoMorph.wholeResult_list(rn, str(data_each),pos=['VV', 'VA', 'XR', 'IC', 'MM', 'MAG', 'MAJ','EF','SF'])\n",
    "\n",
    "    # 형태소 분석된 데이터에서 NNP에 대해 이름 정규 표현식 적용 및 지역명 체크\n",
    "    for j, item in enumerate(poses):\n",
    "        if item == 'NNP':\n",
    "            word = morphed_data_each[j]\n",
    "            \n",
    "            # 지역명 리스트에 있는지 체크\n",
    "            if word in location_list:\n",
    "                morphed_data_each[j] = '`지역`'\n",
    "        \n",
    "        for k in ['NNG','NNB','NNP','NP','JKS','VCN','JKG','JKB','MAJ','ETM','JKQ','JC','JKC','JKO','JKV','EP','JX','SW','SF','SP','SO','EF','EC','IC']:\n",
    "            if item == k :\n",
    "                morphed_data_each[j] = morphed_data_each[j]+' '\n",
    "\n",
    "    joined_data_each2 = ' '.join(morphed_data_each)\n",
    "    if joined_data_each2:\n",
    "        morphed_title_list.append(' '+joined_data_each2)\n",
    "    else : \n",
    "        morphed_title_list.append(' ')\n",
    "\n",
    "morphed_data_list = []\n",
    "for data_each in data_contents:\n",
    "    # 이메일과 전화번호 마스킹\n",
    "    data_each = re.sub(email_pattern, '`이메일`', data_each)\n",
    "    data_each = re.sub(phone_pattern, '`전화번호`', data_each)\n",
    "\n",
    "    morphed_data_each, poses = rhinoMorph.wholeResult_list(rn, str(data_each),pos=['VV', 'VA', 'XR', 'IC', 'MM', 'MAG', 'MAJ','EF','SF'])\n",
    "\n",
    "    # 형태소 분석된 데이터에서 NNP에 대해 이름 정규 표현식 적용 및 지역명 체크\n",
    "    for j, item in enumerate(poses):\n",
    "        if item == 'NNP':\n",
    "            word = morphed_data_each[j]\n",
    "            \n",
    "            # 지역명 리스트에 있는지 체크\n",
    "            if word in location_list:\n",
    "                morphed_data_each[j] = '`지역`'\n",
    "        \n",
    "        for k in ['NNG','NNB','NNP','NP','JKS','VCN','JKG','JKB','MAJ','ETM','JKQ','JC','JKC','JKO','JKV','EP','JX','SW','SF','SP','SO','EF','EC','IC']:\n",
    "            if item == k :\n",
    "                morphed_data_each[j] = morphed_data_each[j]+' '\n",
    "\n",
    "    joined_data_each2 = ' '.join(morphed_data_each)\n",
    "    if joined_data_each2:\n",
    "        morphed_data_list.append(' '+joined_data_each2)\n",
    "    else : \n",
    "        morphed_data_list.append(' ')\n",
    "\n",
    "data.insert(11,'title_eomi_giho_essential_removeNN_morphed_masked',morphed_title_list)\n",
    "data.insert(25,'text_eomi_giho_essential_removeNN_morphed_masked',morphed_data_list)"
   ]
  },
  {
   "cell_type": "markdown",
   "metadata": {},
   "source": [
    "# 파일 저장"
   ]
  },
  {
   "cell_type": "code",
   "execution_count": 69,
   "metadata": {},
   "outputs": [],
   "source": [
    "import os\n",
    "\n",
    "os.chdir('C:/Users/USER/Desktop/핵심역량 프로젝트/데이터/라벨링 데이터/')\n",
    "\n",
    "data.to_csv('0727_masking_labeling_data.csv',encoding = 'utf-8-sig')"
   ]
  },
  {
   "cell_type": "code",
   "execution_count": null,
   "metadata": {},
   "outputs": [],
   "source": []
  }
 ],
 "metadata": {
  "kernelspec": {
   "display_name": "base",
   "language": "python",
   "name": "python3"
  },
  "language_info": {
   "codemirror_mode": {
    "name": "ipython",
    "version": 3
   },
   "file_extension": ".py",
   "mimetype": "text/x-python",
   "name": "python",
   "nbconvert_exporter": "python",
   "pygments_lexer": "ipython3",
   "version": "3.11.7"
  }
 },
 "nbformat": 4,
 "nbformat_minor": 2
}
