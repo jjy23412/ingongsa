{
 "cells": [
  {
   "cell_type": "code",
   "execution_count": 44,
   "metadata": {},
   "outputs": [
    {
     "name": "stdout",
     "output_type": "stream",
     "text": [
      "filepath:  C:\\Users\\USER\\anaconda3\\Lib\\site-packages\n",
      "classpath:  C:\\Users\\USER\\anaconda3\\Lib\\site-packages\\rhinoMorph/lib/rhino.jar\n",
      "JVM is already started~\n",
      "RHINO started!\n",
      "{'aggr': 1, '욕설_모욕': 0, '비꼼_시비': 1, '요지불명': 0, '저격성민원': 1, '반복성민원': 1}\n"
     ]
    }
   ],
   "source": [
    "import os\n",
    "import pandas as pd\n",
    "import rhinoMorph\n",
    "import joblib\n",
    "from sklearn.model_selection import train_test_split, GridSearchCV\n",
    "from sklearn.feature_extraction.text import CountVectorizer\n",
    "from sklearn.decomposition import TruncatedSVD\n",
    "from sklearn.linear_model import LogisticRegression\n",
    "from sklearn.svm import SVC\n",
    "from sklearn.ensemble import RandomForestClassifier, GradientBoostingClassifier, AdaBoostClassifier\n",
    "from sklearn.pipeline import Pipeline\n",
    "import joblib\n",
    "import numpy as np\n",
    "\n",
    "def get_category(input_data):\n",
    "\n",
    "    #딕셔너리 키값 추출\n",
    "    input_data_str = ''\n",
    "\n",
    "    for i in input_data.keys():\n",
    "        if i == 'title' or i == 'contents' :\n",
    "            for j in input_data[i]:\n",
    "                if isinstance(i, str):\n",
    "                    input_data_str += j\n",
    "                else:\n",
    "                    input_data_str += \" \"\n",
    "            \n",
    "    \n",
    "    rn = rhinoMorph.startRhino()\n",
    "    \n",
    "    # 형태소 분석\n",
    "    morphed_data = \"\"\n",
    "    morphed_data_each = rhinoMorph.onlyMorph_list(rn, input_data_str,pos = ['NNG','NNP','VV', 'VA', 'XR', 'IC', 'MM', 'MAG','MAJ'])\n",
    "    if morphed_data_each:\n",
    "        joined_data_each = ' '.join(morphed_data_each)\n",
    "    else :\n",
    "        joined_data_each = \"\"\n",
    "    if joined_data_each:\n",
    "        morphed_data += joined_data_each\n",
    "    else :\n",
    "        morphed_data += \" \"\n",
    "\n",
    "    morphed_data = pd.Series(morphed_data)\n",
    "    \n",
    "    #모델 호출\n",
    "    os.chdir(\"C:/Users/USER/Desktop/핵심역량 프로젝트/데이터/모델/\")\n",
    "\n",
    "    aggr_모델 = joblib.load(\"aggr_hard_model_tfidf_nonemasking_model.pkl\")\n",
    "    욕설_모욕_모델 = joblib.load(\"욕설_모욕_ridge_classifier_tfidf_nonemasking_model.pkl\")\n",
    "    비꼼_시비_모델 = joblib.load(\"비꼼_시비_soft_model_tfidf_nonemasking_model.pkl\")\n",
    "    요지불명_모델 = joblib.load(\"요지불명_ridge_classifier_tfidf_nonemasking_model.pkl\")\n",
    "    저격성민원_모델 = joblib.load(\"저격성 민원_ridge_classifier_tfidf_nonemasking_model.pkl\")\n",
    "    반복성민원_모델 = joblib.load(\"반복_soft_model_tfidf_nonemasking_model.pkl\")\n",
    "    \n",
    "    #값 예측\n",
    "    aggr_result = aggr_모델.predict(morphed_data)\n",
    "    욕설_모욕_result = 욕설_모욕_모델.predict(morphed_data)\n",
    "    비꼼_시비_모델_result = 비꼼_시비_모델.predict(morphed_data)\n",
    "    요지불명_모델_result = 요지불명_모델.predict(morphed_data)\n",
    "    저격성민원_모델_result = 저격성민원_모델.predict(morphed_data)\n",
    "    반복성민원_모델_result = 반복성민원_모델.predict(morphed_data)\n",
    "\n",
    "    #딕셔너리 반환\n",
    "    result = {'aggr' : aggr_result[0],\n",
    "              '욕설_모욕' : 욕설_모욕_result[0],\n",
    "              '비꼼_시비' : 비꼼_시비_모델_result[0],\n",
    "              '요지불명' : 요지불명_모델_result[0],\n",
    "              '저격성민원' : 저격성민원_모델_result[0],\n",
    "              '반복성민원' : 반복성민원_모델_result[0],}\n",
    "\n",
    "    return result\n",
    "\n",
    "\n",
    "\n",
    "monwon_contents = {\n",
    "    'title':'영동포구청 청소과 이종성은 사과하라.',\n",
    "    \"contents\" : \"영등포구청 청소과 업무 회피 불친절 상담 2024년 6월 17일 9시30분 영등포 구청 청소과 통화 연결 후 소속 및 담당과 확인 맞다고 응대함 쓰레기 회수 시간 민원제기중 담당자 아니라고 하면서 다시 전화 달라고함 그래서 담당자 오면 전화 달라고 요청하니 본인한테 짜증내고 화내냐고 하면 전화 일방적으로 단선 종료 , 재콜하였으나 다른 직원 받아서 전화 연결해줌 전화 상담 태도에 대해서 언급했으나 안일한 태도로 일관 무성의 직급 이름 물어봤지만 알려줄수 없다면서 모르쇠 일관 하고 전화 또다시 종료함 다시 세번쨰 전화 하니 본인 전화 받아서 담당자가 아니라고 하더니 갑가지 태도 돌변하여 민원내용을 다시 물음 본인이 담당자가 아니고 해결해줄수 없다고 하더니 다시 말을 바꿈, 직급 이름 재차 물었으나 지속 알려줄수 없다 주장 공문에 이름을 알려줄수 없게 되어있다고 주장하자 공문 보내달라 요청 했으나 다시 또 말을 바꾸며 이름을 알려줌 민원제기 해도 상관없다고 말하고 무성의 하며 홈페이지 버젖이 담당과 이름이 검색이가능하나 그것조차 모르고있으면서 핑계 ,회피, 지속 늘어놓으면서 지금 몇시간째 담당자는 백콜 요청 해도 전화는 오지 않고 도대체 공무원이라는 사람들은 일을 이렇게 할수가 있는건가요 ??? 저는 이 일을 그냥 넘어 가지 않고 컴플레인 제기 할것 입니다. 그리고 그 직원에 대해아무 조치도 안하고 방관 할 경우 서울시청 , 국민 신문고, 민원제기 및 구청 내방과 영등포 구청장님 에게 직원들의 업무를 어떻게 하고있는지 상담을 어떻게 진행하는지 제가 겪은 일에 대해서 상세히 설명하고 개선점에 대해서 애기를 들어볼 생각입니다. 담당자가 없으면 담당부서에 대체 인력이 업무를 대체 하는게 맞다고 생각하고 이렇게 시민이 불편하고 불쾌하고 시간낭비 해가면서 민원제기를 언제 까지해야하는 걸까요 ??? 저랑 처음에 통화한 직원의 이름은 청소과 이종성 님이라고 하며 , 계속 거짓말을하고 암뒤말이 안맞아서 이름조차 제대로 안내를 해줬는지 의심조차 듭니다. 정말 이렇게 불쾌하고 업무지식 없는 사람이 계속 일을 해서 얼마나 더많은 시민들에게 불편을 줄지는 안봐도 비디오 입니다. 더 이상 정말 이런일들을 겪고 싶지 않습니다.\"}\n",
    "\n",
    "print(get_category(monwon_contents))\n"
   ]
  },
  {
   "cell_type": "code",
   "execution_count": 1,
   "metadata": {},
   "outputs": [
    {
     "data": {
      "text/plain": [
       "'`이메일` 이랑 `전화번호`'"
      ]
     },
     "execution_count": 1,
     "metadata": {},
     "output_type": "execute_result"
    }
   ],
   "source": [
    "import re\n",
    "email_pattern = r'[a-zA-Z0-9._%+-]+@[a-zA-Z0-9.-]+\\.[a-zA-Z]{2,}'\n",
    "phone_pattern = r'\\b\\d{2,4}[-.\\s]?\\d{3,4}[-.\\s]?\\d{4}\\b'\n",
    "data_each = 'hyungj1590@naver.com 이랑 010-5484-1873'\n",
    "data_each = re.sub(email_pattern, '`이메일`', data_each)\n",
    "data_each = re.sub(phone_pattern, '`전화번호`', data_each)\n",
    "\n",
    "data_each"
   ]
  },
  {
   "cell_type": "code",
   "execution_count": null,
   "metadata": {},
   "outputs": [],
   "source": []
  }
 ],
 "metadata": {
  "kernelspec": {
   "display_name": "base",
   "language": "python",
   "name": "python3"
  },
  "language_info": {
   "codemirror_mode": {
    "name": "ipython",
    "version": 3
   },
   "file_extension": ".py",
   "mimetype": "text/x-python",
   "name": "python",
   "nbconvert_exporter": "python",
   "pygments_lexer": "ipython3",
   "version": "3.11.7"
  }
 },
 "nbformat": 4,
 "nbformat_minor": 2
}
