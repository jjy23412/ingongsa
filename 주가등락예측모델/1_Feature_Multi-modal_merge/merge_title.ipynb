{
 "cells": [
  {
   "cell_type": "markdown",
   "metadata": {},
   "source": [
    "라벨링 결과를 받아서 날짜별로 뉴스제목을 병합"
   ]
  },
  {
   "cell_type": "code",
   "execution_count": 5,
   "metadata": {},
   "outputs": [
    {
     "name": "stdout",
     "output_type": "stream",
     "text": [
      "The merged data has been saved to: ./merged_title_text_by_date.csv\n"
     ]
    }
   ],
   "source": [
    "import pandas as pd\n",
    "\n",
    "# Load the dataset\n",
    "news_data_path = './news_label_data/news_combined_result.csv'\n",
    "news_data = pd.read_csv(news_data_path)\n",
    "\n",
    "# Convert DateTime column to date format only\n",
    "news_data['DateTime'] = pd.to_datetime(news_data['DateTime']).dt.date\n",
    "\n",
    "# Group by DateTime and merge Title_Text by concatenating texts for each date\n",
    "merged_text_by_date = news_data.groupby('DateTime')['Title_Text'].apply(lambda x: ' '.join(x)).reset_index()\n",
    "\n",
    "# Save the merged data to a new CSV file with DateTime column\n",
    "output_path = './merged_title_text_by_date.csv'\n",
    "merged_text_by_date.to_csv(output_path, index=False, encoding = 'utf-8-sig')\n",
    "\n",
    "# Display the path to the saved file\n",
    "print(f\"The merged data has been saved to: {output_path}\")"
   ]
  },
  {
   "cell_type": "markdown",
   "metadata": {},
   "source": [
    "시계열 데이터에 언어모델을 날짜를 기준으로 병합"
   ]
  },
  {
   "cell_type": "code",
   "execution_count": 6,
   "metadata": {},
   "outputs": [
    {
     "name": "stdout",
     "output_type": "stream",
     "text": [
      "The merged data has been saved to: ./combined_merged_data.csv\n"
     ]
    }
   ],
   "source": [
    "import pandas as pd\n",
    "\n",
    "# Load the two CSV files\n",
    "merged_text_by_date_path = './merged_title_text_by_date.csv'\n",
    "processed_stock_data_path = './time_series_data/processed_stock_data.csv'\n",
    "\n",
    "# Load both datasets\n",
    "merged_text_by_date = pd.read_csv(merged_text_by_date_path)\n",
    "processed_stock_data = pd.read_csv(processed_stock_data_path)\n",
    "\n",
    "# Convert DateTime columns to date format\n",
    "merged_text_by_date['DateTime'] = pd.to_datetime(merged_text_by_date['DateTime']).dt.date\n",
    "processed_stock_data['Adjusted_Prediction_Date_Copy'] = pd.to_datetime(processed_stock_data['Adjusted_Prediction_Date_Copy']).dt.date\n",
    "\n",
    "# Merge the datasets on the DateTime columns\n",
    "merged_data = pd.merge(processed_stock_data, merged_text_by_date, left_on='Adjusted_Prediction_Date_Copy', right_on='DateTime', how='left')\n",
    "\n",
    "# Drop the extra DateTime column from the merged_text_by_date data\n",
    "merged_data = merged_data.drop(columns=['DateTime'])\n",
    "\n",
    "# Save the merged data to a new CSV file\n",
    "final_output_path = './combined_merged_data.csv'\n",
    "merged_data.to_csv(final_output_path, index=False, encoding = 'utf-8-sig')\n",
    "\n",
    "print(f\"The merged data has been saved to: {final_output_path}\")"
   ]
  },
  {
   "cell_type": "markdown",
   "metadata": {},
   "source": [
    "컬럼 순서 변경"
   ]
  },
  {
   "cell_type": "code",
   "execution_count": 7,
   "metadata": {},
   "outputs": [
    {
     "name": "stdout",
     "output_type": "stream",
     "text": [
      "The reordered data has been saved to: ./reordered_combined_merged_data.csv\n"
     ]
    }
   ],
   "source": [
    "import pandas as pd\n",
    "\n",
    "# Load the merged data\n",
    "merged_data_path = './combined_merged_data.csv'\n",
    "merged_data = pd.read_csv(merged_data_path)\n",
    "\n",
    "# Move Title_Text column to the end and Target column to appear before it\n",
    "columns = list(merged_data.columns)\n",
    "columns.remove('Target')\n",
    "columns.remove('Title_Text')\n",
    "reordered_columns = columns + ['Target', 'Title_Text']\n",
    "\n",
    "# Reorder the DataFrame\n",
    "merged_data_reordered = merged_data[reordered_columns]\n",
    "\n",
    "# Save the reordered DataFrame to a new CSV file\n",
    "reordered_output_path = './reordered_combined_merged_data.csv'\n",
    "merged_data_reordered.to_csv(reordered_output_path, index=False,encoding = 'utf-8-sig')\n",
    "\n",
    "print(f\"The reordered data has been saved to: {reordered_output_path}\")"
   ]
  }
 ],
 "metadata": {
  "kernelspec": {
   "display_name": "base",
   "language": "python",
   "name": "python3"
  },
  "language_info": {
   "codemirror_mode": {
    "name": "ipython",
    "version": 3
   },
   "file_extension": ".py",
   "mimetype": "text/x-python",
   "name": "python",
   "nbconvert_exporter": "python",
   "pygments_lexer": "ipython3",
   "version": "3.11.7"
  }
 },
 "nbformat": 4,
 "nbformat_minor": 2
}
